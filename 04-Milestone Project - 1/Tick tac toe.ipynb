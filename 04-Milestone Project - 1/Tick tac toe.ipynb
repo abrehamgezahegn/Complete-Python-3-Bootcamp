{
 "metadata": {
  "language_info": {
   "codemirror_mode": {
    "name": "ipython",
    "version": 3
   },
   "file_extension": ".py",
   "mimetype": "text/x-python",
   "name": "python",
   "nbconvert_exporter": "python",
   "pygments_lexer": "ipython3",
   "version": "3.8.5"
  },
  "orig_nbformat": 2,
  "kernelspec": {
   "name": "python385jvsc74a57bd009d8c1e75bc03aa45ebc8aeed02b39ce6b56b038c575fc0fe524dd2db3ccb1ae",
   "display_name": "Python 3.8.5 64-bit ('base': conda)"
  },
  "metadata": {
   "interpreter": {
    "hash": "09d8c1e75bc03aa45ebc8aeed02b39ce6b56b038c575fc0fe524dd2db3ccb1ae"
   }
  }
 },
 "nbformat": 4,
 "nbformat_minor": 2,
 "cells": [
  {
   "cell_type": "code",
   "execution_count": 1,
   "metadata": {},
   "outputs": [],
   "source": [
    "def ticTacToe(): \n",
    "    #1.start game\n",
    "    print(\"Game is starting\")\n",
    "\n",
    "    \n",
    "    #2.define array to represent palying board\n",
    "\n",
    "    #3.assign player one to X and \n",
    "    # player two to Y (will allow users to chose on later versions)\n",
    "    \n",
    "    #4.prep function to print board given an array\n",
    "\n",
    "    #5.prep function to detemine a winner given an array\n",
    "\n",
    "    #6.accept user input in number and in player turn\n",
    "\n",
    "    #7.repeat 5 until there is a winner\n",
    "    board = [0]*9\n",
    "    print(board);"
   ]
  },
  {
   "source": [],
   "cell_type": "markdown",
   "metadata": {}
  },
  {
   "source": [
    "def printBoard(array):\n",
    "   \n",
    "    print(array)\n",
    "\n",
    "    print(f\" {array[0]} | {array[1]} | {array[2]} \\n ---------- \\n {array[3]} | {array[4]} | {array[5]}  \\n ---------- \\n {array[6]} | {array[7]} | {array[8]}  \\n \")\n",
    "\n",
    "\n",
    "\n",
    "printBoard(['X', 'O', ' ', 'X', ' ', 'O', 'X', 'O', 'O']);\n"
   ],
   "cell_type": "code",
   "metadata": {},
   "execution_count": 11,
   "outputs": [
    {
     "output_type": "stream",
     "name": "stdout",
     "text": [
      "['X', 'O', ' ', 'X', ' ', 'O', 'X', 'O', 'O']\n X | O |   \n ---------- \n X |   | O  \n ---------- \n X | O | O  \n \n"
     ]
    }
   ]
  },
  {
   "cell_type": "code",
   "execution_count": 4,
   "metadata": {},
   "outputs": [],
   "source": [
    "from IPython.display import clear_output"
   ]
  },
  {
   "cell_type": "code",
   "execution_count": 10,
   "metadata": {},
   "outputs": [
    {
     "output_type": "stream",
     "name": "stdout",
     "text": [
      "taken spots\n"
     ]
    }
   ],
   "source": [
    "def acceptInputs():\n",
    "    moves = [];    \n",
    "    validInputs = range(0,10);\n",
    "    turn = \"X\";\n",
    "    x = \"\"\n",
    "\n",
    "    while turn == \"X\" and not x in validInputs:\n",
    "        x = input(\"It's X's move\");\n",
    "        clear_output()\n",
    "        \n",
    "        if not x.isdigit(): \n",
    "            print(\"Please enter a number\");\n",
    "\n",
    "        if not int(x) in validInputs:\n",
    "            print(\"Please enter a valid number\")\n",
    "            continue;\n",
    "\n",
    "        [takenSpot for takenSpot in moves if takenSpot != \" \"];\n",
    "        print(\"taken spots\" , )\n",
    "        turn = \"Y\";\n",
    "\n",
    "\n",
    "\n",
    "acceptInputs()\n",
    "\n",
    "\n",
    "\n",
    "\n"
   ]
  }
 ]
}