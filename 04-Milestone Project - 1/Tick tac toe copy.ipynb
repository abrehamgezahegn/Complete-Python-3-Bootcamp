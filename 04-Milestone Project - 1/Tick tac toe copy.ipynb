{
 "metadata": {
  "language_info": {
   "codemirror_mode": {
    "name": "ipython",
    "version": 3
   },
   "file_extension": ".py",
   "mimetype": "text/x-python",
   "name": "python",
   "nbconvert_exporter": "python",
   "pygments_lexer": "ipython3",
   "version": "3.8.5"
  },
  "orig_nbformat": 2,
  "kernelspec": {
   "name": "python385jvsc74a57bd009d8c1e75bc03aa45ebc8aeed02b39ce6b56b038c575fc0fe524dd2db3ccb1ae",
   "display_name": "Python 3.8.5 64-bit ('base': conda)"
  },
  "metadata": {
   "interpreter": {
    "hash": "09d8c1e75bc03aa45ebc8aeed02b39ce6b56b038c575fc0fe524dd2db3ccb1ae"
   }
  }
 },
 "nbformat": 4,
 "nbformat_minor": 2,
 "cells": [
  {
   "cell_type": "code",
   "execution_count": 7,
   "metadata": {},
   "outputs": [],
   "source": [
    "def ticTacToe(): \n",
    "    #1.start game\n",
    "    print(\"Game is starting\")\n",
    "\n",
    "    \n",
    "    #2.define array to represent palying board\n",
    "\n",
    "    #3.assign player one to X and \n",
    "    # player two to Y (will allow users to chose on later versions)\n",
    "    \n",
    "    #4.prep function to print board given an array\n",
    "\n",
    "    #5.prep function to detemine a winner given an array\n",
    "\n",
    "    #6.accept user input in number and in player turn\n",
    "\n",
    "    #7.repeat 5 until there is a winner\n",
    "    board = [0]*9\n",
    "    print(board);"
   ]
  },
  {
   "source": [],
   "cell_type": "markdown",
   "metadata": {}
  },
  {
   "source": [
    "def printBoard(array):\n",
    "   \n",
    "    print(f\" {array[0]} | {array[1]} | {array[2]} \\n ---------- \\n {array[3]} | {array[4]} | {array[5]}  \\n ---------- \\n {array[6]} | {array[7]} | {array[8]}  \\n \")\n",
    "\n",
    "\n",
    "\n"
   ],
   "cell_type": "code",
   "metadata": {},
   "execution_count": 8,
   "outputs": []
  },
  {
   "cell_type": "code",
   "execution_count": 9,
   "metadata": {},
   "outputs": [],
   "source": [
    "from IPython.display import clear_output\n"
   ]
  },
  {
   "cell_type": "code",
   "execution_count": 10,
   "metadata": {},
   "outputs": [],
   "source": [
    "def getWinner(moves):\n",
    "    winning = [[0,3,6], [1,4,7], [2,5,8],[0,1,2],[3,4,5], [6,7,8], [0,4,8], [0,1,2], [2,4,6]];\n",
    "    for win in winning:\n",
    "        if moves[win[0]] == moves[win[1]] == moves[win[2]] != \" \":\n",
    "           return moves[win[0]]\n",
    "    return False;\n",
    "# moves_ = ['X', 'O', ' ', 'X', ' ', 'O', 'O', 'O', 'O']\n",
    "# printBoard(moves_);\n",
    "# winner(moves_);\n"
   ]
  },
  {
   "cell_type": "code",
   "execution_count": 11,
   "metadata": {},
   "outputs": [],
   "source": [
    "def acceptInputs():\n",
    "\n",
    "    moves = [\" \"]*9;    \n",
    "    validInputs = range(0,10);\n",
    "    turn = \"X\";\n",
    "    move = \"\"\n",
    "\n",
    "    while move != \"e\" and not move in validInputs:\n",
    "        print(\"move \" , move);\n",
    "        \n",
    "        move = input(f\"It's {turn}'s move\");\n",
    "        clear_output()\n",
    "        \n",
    "        \n",
    "        if move == \"e\":\n",
    "            move = \"e\";\n",
    "            printBoard(moves);\n",
    "            break;\n",
    "\n",
    "        if not move.isdigit(): \n",
    "            print(\"Please enter a number\");\n",
    "            printBoard(moves);\n",
    "            continue;\n",
    "\n",
    "        if not int(move) in validInputs:\n",
    "            print(\"Please enter a valid number\")\n",
    "            printBoard(moves);\n",
    "            continue;\n",
    "\n",
    "        if moves[int(move) -1 ] != \" \":\n",
    "            print(\"That spot is taken\")\n",
    "            printBoard(moves);\n",
    "            continue; \n",
    "\n",
    "\n",
    "        moves[int(move) - 1]=turn;\n",
    "        printBoard(moves);\n",
    "        winner = getWinner(moves);\n",
    "        if winner:\n",
    "            print(f\"{winner} won 🎉🎉🎉🎉\");\n",
    "            break;\n",
    "        \n",
    "        result = list(filter(lambda x: (x  != \" \"), moves))  \n",
    "\n",
    "\n",
    "        if len(result) == 9:\n",
    "            print(\"No one won :(\");\n",
    "            printBoard(moves);\n",
    "            break;\n",
    "        \n",
    "    \n",
    "        if turn == \"X\":\n",
    "            turn = \"Y\"\n",
    "        elif turn == \"Y\": \n",
    "            turn = \"X\""
   ]
  },
  {
   "cell_type": "code",
   "execution_count": 12,
   "metadata": {},
   "outputs": [
    {
     "output_type": "stream",
     "name": "stdout",
     "text": [
      " X | Y | Y \n ---------- \n X | X | Y  \n ---------- \n X |   |    \n \nX won 🎉🎉🎉🎉\n"
     ]
    }
   ],
   "source": [
    "acceptInputs()"
   ]
  }
 ]
}